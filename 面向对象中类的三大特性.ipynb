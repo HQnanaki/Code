{
 "cells": [
  {
   "cell_type": "markdown",
   "metadata": {},
   "source": [
    "# 面向对象中类的三大特性\n",
    "## 封装性\n",
    "      封装是面向对象的方法所遵循的一个重要原则。它有两层含义：一层含义是指把对象的成员属性和行为看成一个密不可分的整体，\n",
    "    将这两者“封装”在一个不可分的割的独立单位（即对象）中；另一层的含义是指“信息隐藏”，把不需要让外界知道的信息隐藏起来，\n",
    "    有些对象的属性或行为允许外界用户知道或使用，但不允许更改；而有些属性和行为不允许外界知晓，有一些属性或行为只允许使用对\n",
    "    象的功能，而尽可能隐藏对象的功能或实现细节"
   ]
  },
  {
   "cell_type": "code",
   "execution_count": 2,
   "metadata": {},
   "outputs": [],
   "source": [
    "#定义类和函数\n",
    "class Member():\n",
    "    def __init__(self,name,age):\n",
    "        self.name = name\n",
    "        self.age = age\n",
    "    def get_info(self):\n",
    "        return f'姓名：{self.name},年龄：{self.age}'"
   ]
  },
  {
   "cell_type": "code",
   "execution_count": 7,
   "metadata": {},
   "outputs": [
    {
     "name": "stdout",
     "output_type": "stream",
     "text": [
      "姓名：小明,年龄：18\n",
      "外部调用类的属性:\n",
      "姓名:小明 年龄:18\n"
     ]
    }
   ],
   "source": [
    "#实例化一个类\n",
    "mem=Member('小明',18)\n",
    "print(mem.get_info())\n",
    "print(f'外部调用类的属性:\\n姓名:{mem.name} 年龄:{mem.age}')"
   ]
  },
  {
   "cell_type": "code",
   "execution_count": 17,
   "metadata": {},
   "outputs": [],
   "source": [
    "#属性封装与访问\n",
    "#在定义时使用__+属性名称，属性值就不可以被外界调用\n",
    "class Member_fz:\n",
    "    def __init__(self,name,age):\n",
    "        self.__name=name\n",
    "        self.__age=age\n",
    "    def get_info(self):\n",
    "        return f'姓名：{self.__name},年龄：{self.__age}'\n",
    "    def info_change(self,c_name,c_age):\n",
    "        self.__name=c_name\n",
    "        self.__age=c_age"
   ]
  },
  {
   "cell_type": "code",
   "execution_count": 18,
   "metadata": {},
   "outputs": [],
   "source": [
    "mem_fz=Member_fz('小明',19)\n",
    "#此时再进行外部调用会出现报错\n",
    "mem_fz.age"
   ]
  },
  {
   "cell_type": "code",
   "execution_count": 19,
   "metadata": {},
   "outputs": [
    {
     "name": "stdout",
     "output_type": "stream",
     "text": [
      "姓名：小红,年龄：8\n"
     ]
    }
   ],
   "source": [
    "#由于对属性进行了封装，类的属性没有办法外部访问，需要修改时需要调用修改函数\n",
    "mem_fz.info_change('小红',8)\n",
    "print(mem_fz.get_info())"
   ]
  },
  {
   "cell_type": "markdown",
   "metadata": {},
   "source": [
    "## 类的继承\n",
    "      继承的主要目的是在无须修改原始类定义的情况下，可以使用新的类对原始类进行功能扩展，在面向对象设计中，通过\n",
    "    继承创建的新类成为“子类”或“派生类”，而被继承父类成为“基类”或“超类”\n",
    "      在python中，一个子类可以同时继承多个父类，一个父类也可以拥有多个子类，关于子类和父类的信息可以动态获取"
   ]
  },
  {
   "cell_type": "code",
   "execution_count": 20,
   "metadata": {},
   "outputs": [],
   "source": [
    "#创建基类\n",
    "class Person:\n",
    "    def __init__(self):\n",
    "        #设定属性的默认值\n",
    "        self.__name=None\n",
    "        self.__age=0\n",
    "    def set_info(self,name,age):\n",
    "        self.__name=name\n",
    "        self.__age=age\n",
    "    def get_info(self):\n",
    "        return f'姓名：{self.__name},年龄：{self.__age}'\n",
    "#创建空的子类\n",
    "class Student(Person):\n",
    "    pass"
   ]
  },
  {
   "cell_type": "code",
   "execution_count": 21,
   "metadata": {},
   "outputs": [
    {
     "name": "stdout",
     "output_type": "stream",
     "text": [
      "姓名：小刚,年龄：21\n"
     ]
    }
   ],
   "source": [
    "stu=Student()\n",
    "stu.set_info('小刚',21)\n",
    "print(stu.get_info())"
   ]
  },
  {
   "cell_type": "code",
   "execution_count": 24,
   "metadata": {},
   "outputs": [],
   "source": [
    "#创建有扩充功能的子类\n",
    "class Student_extend(Person):\n",
    "    #增加school属性\n",
    "    def __init__(self):\n",
    "        self.__school=None\n",
    "    def set_school(self,school):\n",
    "        self.__school=school\n",
    "    def get_school(self):\n",
    "        return self.__school"
   ]
  },
  {
   "cell_type": "code",
   "execution_count": 32,
   "metadata": {},
   "outputs": [
    {
     "name": "stdout",
     "output_type": "stream",
     "text": [
      "第一中学\n",
      "stu_extend 是Student_extend的对象实例\n"
     ]
    }
   ],
   "source": [
    "stu_extend=Student_extend()\n",
    "stu_extend.set_school('第一中学')\n",
    "print(stu_extend.get_school())\n",
    "#判断子类的类型\n",
    "if stu_extend.__class__==Person:\n",
    "    print('stu_extend 是 Person的对象实例')\n",
    "elif  stu_extend.__class__==Student_extend:\n",
    "    print('stu_extend 是Student_extend的对象实例')\n"
   ]
  },
  {
   "cell_type": "code",
   "execution_count": 35,
   "metadata": {},
   "outputs": [
    {
     "name": "stdout",
     "output_type": "stream",
     "text": [
      "[Student_extend父类](<class '__main__.Person'>,)\n",
      "[Person子类][<class '__main__.Student'>, <class '__main__.Student_extend'>]\n"
     ]
    }
   ],
   "source": [
    "#获取子类和父类的信息\n",
    "print(f'[Student_extend父类]{Student_extend.__bases__}')\n",
    "print(f'[Person子类]{Person.__subclasses__()}')"
   ]
  },
  {
   "cell_type": "markdown",
   "metadata": {},
   "source": [
    "## 多态\n",
    "      在面对对象设计中，多态性描述的是同一结构会在执行时根据不同形态展现出不同的效果。在python中，多态的体现\n",
    "    有两种形式：\n",
    "      方法覆写:子类继承父类后可以依据父类的方法名称进行方法体现的重新定义\n",
    "      对象的多态性：在方法覆写的基础上利用相同的方法名称作为标准，就可以在不考虑具体类型的情况下实现不同子类中相同方法的调用 "
   ]
  },
  {
   "cell_type": "code",
   "execution_count": 37,
   "metadata": {},
   "outputs": [],
   "source": [
    "class Channel:\n",
    "    def build(self):\n",
    "        print('程序运行...')\n",
    "class Channel_new(Channel):\n",
    "    def build(self):\n",
    "        print('数据更新完成')"
   ]
  },
  {
   "cell_type": "code",
   "execution_count": 38,
   "metadata": {},
   "outputs": [
    {
     "name": "stdout",
     "output_type": "stream",
     "text": [
      "数据更新完成\n"
     ]
    }
   ],
   "source": [
    "#可以发现数据已经被覆写完成\n",
    "channel_a=Channel_new()\n",
    "channel_a.build()"
   ]
  },
  {
   "cell_type": "code",
   "execution_count": 40,
   "metadata": {},
   "outputs": [
    {
     "name": "stdout",
     "output_type": "stream",
     "text": [
      "程序运行\n",
      "数据更新中...\n"
     ]
    }
   ],
   "source": [
    "#调用已经被覆写的父类方法\n",
    "class Channel_new_2(Channel):\n",
    "    def build(self):\n",
    "        super().build()\n",
    "        print('数据更新中...')\n",
    "channel_b=Channel_new_2()\n",
    "channel_b.build()"
   ]
  },
  {
   "cell_type": "code",
   "execution_count": 42,
   "metadata": {},
   "outputs": [],
   "source": [
    "#对象的多态性\n",
    "#子类通过覆写父类的方法，可以让子类和父类的方法名称统一\n",
    "#创建Message父类\n",
    "class Message:\n",
    "    def get_info(self):\n",
    "        return '[Message]'\n",
    "class DatabaseMessage(Message):\n",
    "    def get_info(self):\n",
    "        return '[DatabaseMessage]'\n",
    "class NetMessage(Message):\n",
    "    def get_info(self):\n",
    "        return '[NetMessage]'\n",
    "#建立一个类用来输出结果\n",
    "class OUT:\n",
    "#第一个self是OUT的对象\n",
    "    def printout(self,msg):\n",
    "        print(msg.get_info())      "
   ]
  },
  {
   "cell_type": "code",
   "execution_count": 43,
   "metadata": {},
   "outputs": [
    {
     "name": "stdout",
     "output_type": "stream",
     "text": [
      "[Message]\n"
     ]
    }
   ],
   "source": [
    "#不同子类同一个名字的方法输出效果不同\n",
    "out=OUT()\n",
    "out.printout(Message())\n",
    "out.printout(DatabaseMessage())\n",
    "out_printout(NetMessage())"
   ]
  },
  {
   "cell_type": "code",
   "execution_count": null,
   "metadata": {},
   "outputs": [],
   "source": []
  }
 ],
 "metadata": {
  "kernelspec": {
   "display_name": "Python 3",
   "language": "python",
   "name": "python3"
  },
  "language_info": {
   "codemirror_mode": {
    "name": "ipython",
    "version": 3
   },
   "file_extension": ".py",
   "mimetype": "text/x-python",
   "name": "python",
   "nbconvert_exporter": "python",
   "pygments_lexer": "ipython3",
   "version": "3.7.6"
  }
 },
 "nbformat": 4,
 "nbformat_minor": 4
}
